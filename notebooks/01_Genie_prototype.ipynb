{
 "cells": [
  {
   "cell_type": "markdown",
   "metadata": {},
   "source": [
    "## 1. Slack data dump"
   ]
  },
  {
   "cell_type": "code",
   "execution_count": null,
   "metadata": {
    "scrolled": false
   },
   "outputs": [],
   "source": [
    "%run slack_export --token 'your token'"
   ]
  },
  {
   "cell_type": "markdown",
   "metadata": {},
   "source": [
    "## 2. [3_*] 채널의 모든 메세지 가져오기"
   ]
  },
  {
   "cell_type": "code",
   "execution_count": null,
   "metadata": {},
   "outputs": [],
   "source": [
    "import os"
   ]
  },
  {
   "cell_type": "code",
   "execution_count": null,
   "metadata": {},
   "outputs": [],
   "source": [
    "# 위에 output Directory 로 출력된 폴더명 입력\n",
    "outputDirectory = '20190717-223548-slack_export'\n",
    "\n",
    "# 3_* 채널만 filtering\n",
    "all_channels = os.listdir(outputDirectory)\n",
    "channels = sorted([i for i in all_channels if i.startswith('3_')])\n",
    "channels"
   ]
  },
  {
   "cell_type": "code",
   "execution_count": null,
   "metadata": {},
   "outputs": [],
   "source": [
    "import json\n",
    "\n",
    "all_data = []\n",
    "\n",
    "for channel in channels:\n",
    "    dir_path = os.path.join(outputDirectory, channel)\n",
    "    if os.path.isdir(dir_path):\n",
    "        for date in sorted(os.listdir(dir_path)):\n",
    "            if date == '.json':\n",
    "                continue\n",
    "            with open(os.path.join(dir_path, date)) as json_file:\n",
    "                json_data = json.load(json_file)\n",
    "                all_data.extend(json_data)"
   ]
  },
  {
   "cell_type": "code",
   "execution_count": null,
   "metadata": {
    "scrolled": false
   },
   "outputs": [],
   "source": [
    "all_data[-5:]"
   ]
  },
  {
   "cell_type": "markdown",
   "metadata": {},
   "source": [
    "## 3. reaction 으로 filtering 후 url 출력"
   ]
  },
  {
   "cell_type": "code",
   "execution_count": null,
   "metadata": {
    "scrolled": false
   },
   "outputs": [],
   "source": [
    "for data in all_data:\n",
    "    if (type(data) == dict) and ('attachments' in data.keys()) and ('reactions' in data.keys()):\n",
    "        # 일단 '+1' reaction으로 filtering\n",
    "        reactions = [i['name'] for i in data['reactions']]\n",
    "        if '+1' in reactions:\n",
    "            if 'title_link' in data['attachments'][0].keys():\n",
    "                print(data['attachments'][0]['title_link'], '\\n')"
   ]
  },
  {
   "cell_type": "code",
   "execution_count": null,
   "metadata": {},
   "outputs": [],
   "source": []
  }
 ],
 "metadata": {
  "kernelspec": {
   "display_name": "Python 3",
   "language": "python",
   "name": "python3"
  },
  "language_info": {
   "codemirror_mode": {
    "name": "ipython",
    "version": 3
   },
   "file_extension": ".py",
   "mimetype": "text/x-python",
   "name": "python",
   "nbconvert_exporter": "python",
   "pygments_lexer": "ipython3",
   "version": "3.7.0"
  },
  "varInspector": {
   "cols": {
    "lenName": 16,
    "lenType": 16,
    "lenVar": 40
   },
   "kernels_config": {
    "python": {
     "delete_cmd_postfix": "",
     "delete_cmd_prefix": "del ",
     "library": "var_list.py",
     "varRefreshCmd": "print(var_dic_list())"
    },
    "r": {
     "delete_cmd_postfix": ") ",
     "delete_cmd_prefix": "rm(",
     "library": "var_list.r",
     "varRefreshCmd": "cat(var_dic_list()) "
    }
   },
   "types_to_exclude": [
    "module",
    "function",
    "builtin_function_or_method",
    "instance",
    "_Feature"
   ],
   "window_display": false
  }
 },
 "nbformat": 4,
 "nbformat_minor": 2
}
