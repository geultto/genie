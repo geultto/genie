{
 "cells": [
  {
   "cell_type": "code",
   "execution_count": null,
   "metadata": {},
   "outputs": [],
   "source": [
    "import os, json, csv\n",
    "from datetime import datetime\n",
    "import pandas as pd"
   ]
  },
  {
   "cell_type": "code",
   "execution_count": null,
   "metadata": {},
   "outputs": [],
   "source": [
    "outputDirectory = '../20190722-162512-slack_export'\n",
    "\n",
    "class args:\n",
    "    channel_prefix = '3_'\n",
    "    deadline = '2019-07-22'"
   ]
  },
  {
   "cell_type": "code",
   "execution_count": null,
   "metadata": {},
   "outputs": [],
   "source": [
    "## ---------------------------- Get users url data by reactions ---------------------------- ##\n",
    "# Get user data\n",
    "users = {}\n",
    "with open(os.path.join(outputDirectory, 'users.json')) as json_file:\n",
    "    user_json = json.load(json_file)\n",
    "    for user in user_json:\n",
    "        if not (user['is_bot'] or (user['name'] == 'slackbot')):\n",
    "            if 'real_name' in user.keys():\n",
    "                users[user['id']] = user['real_name']\n",
    "            else:\n",
    "                users[user['id']] = user['profile']['real_name']\n",
    "\n",
    "# Get Filtered URLs from saved data\n",
    "# need dataz only from [3_*] channels\n",
    "all_channels = os.listdir(outputDirectory)\n",
    "filtered_channels = sorted([i for i in all_channels if i.startswith(args.channel_prefix)])\n",
    "\n",
    "# collect all data from filtered channels\n",
    "all_messages = []\n",
    "for channel in filtered_channels:\n",
    "    channel_path = os.path.join(outputDirectory, channel)\n",
    "    for date in sorted(os.listdir(channel_path)):\n",
    "        with open(os.path.join(channel_path, date)) as json_file:\n",
    "            json_data = json.load(json_file)\n",
    "            all_messages.extend(json_data)\n",
    "\n",
    "def self_reaction_check(check_reaction, message):\n",
    "    '''\n",
    "    메세지에 self로 check_reaction을 입력했는지 확인\n",
    "    '''\n",
    "    reactions = message['reactions']\n",
    "    userId = message['user']\n",
    "    for reaction in reactions:\n",
    "        if reaction['name'] == check_reaction:\n",
    "            if userId in reaction['users']:\n",
    "                return True\n",
    "            else:\n",
    "                return False\n",
    "        else:\n",
    "            return False\n",
    "\n",
    "# filter data with reactions\n",
    "submit_reaction = 'submit'\n",
    "pass_reaction = 'pass'\n",
    "submit_data = pd.DataFrame({'userId': userid, 'url': -1, 'time': None} \\\n",
    "                           for userid in users)\n",
    "for message in all_messages:\n",
    "    # 1) submit\n",
    "    if ('attachments' in message.keys()) and ('reactions' in message.keys()):\n",
    "        if self_reaction_check(submit_reaction, message):\n",
    "            userId = message['user']\n",
    "            link = message['attachments'][0]['title_link']\n",
    "            time = str(datetime.fromtimestamp(float(message['ts'])))[:-7]\n",
    "\n",
    "            submit_data.loc[submit_data['userId'] == userId, 'url'] = link\n",
    "            submit_data.loc[submit_data['userId'] == userId, 'time'] = time\n",
    "\n",
    "    # 2) pass\n",
    "    if ('reactions' in message.keys()) and (self_reaction_check(pass_reaction, message)):\n",
    "        userId = message['user']\n",
    "        time = str(datetime.fromtimestamp(float(message['ts'])))[:-7]\n",
    "        submit_data.loc[submit_data['userId'] == userId, 'url'] = 'pass'\n",
    "        submit_data.loc[submit_data['userId'] == userId, 'time'] = time\n"
   ]
  },
  {
   "cell_type": "markdown",
   "metadata": {},
   "source": [
    "### send user data to BigQuery"
   ]
  },
  {
   "cell_type": "code",
   "execution_count": null,
   "metadata": {},
   "outputs": [],
   "source": [
    "users_df = pd.read_csv('../user_data.csv')"
   ]
  },
  {
   "cell_type": "code",
   "execution_count": null,
   "metadata": {},
   "outputs": [],
   "source": [
    "name_to_id = {}\n",
    "for userid in users.keys():\n",
    "    name_to_id[users[userid]] = userid\n",
    "\n",
    "name_to_id"
   ]
  },
  {
   "cell_type": "code",
   "execution_count": null,
   "metadata": {},
   "outputs": [],
   "source": [
    "users_df['id'] = users_df['name'].apply(lambda i: name_to_id[i])\n",
    "users_df"
   ]
  },
  {
   "cell_type": "code",
   "execution_count": null,
   "metadata": {},
   "outputs": [],
   "source": [
    "users_df.to_gbq(table_id, project_id=project_id, if_exists='replace')"
   ]
  },
  {
   "cell_type": "markdown",
   "metadata": {},
   "source": [
    "### send slack log data to BigQuery"
   ]
  },
  {
   "cell_type": "code",
   "execution_count": null,
   "metadata": {},
   "outputs": [],
   "source": [
    "submit_data"
   ]
  },
  {
   "cell_type": "markdown",
   "metadata": {},
   "source": [
    "### deadline_check"
   ]
  },
  {
   "cell_type": "code",
   "execution_count": null,
   "metadata": {},
   "outputs": [],
   "source": [
    "from datetime import datetime, timedelta"
   ]
  },
  {
   "cell_type": "code",
   "execution_count": null,
   "metadata": {},
   "outputs": [],
   "source": [
    "deadline_str = args.deadline\n",
    "deadline_str"
   ]
  },
  {
   "cell_type": "code",
   "execution_count": null,
   "metadata": {},
   "outputs": [],
   "source": [
    "deadline_time = datetime.strptime(deadline_str, '%Y-%m-%d')\n",
    "deadline_time"
   ]
  },
  {
   "cell_type": "code",
   "execution_count": null,
   "metadata": {},
   "outputs": [],
   "source": [
    "submit_deadline = deadline_time + timedelta(hours=2)\n",
    "submit_deadline"
   ]
  },
  {
   "cell_type": "code",
   "execution_count": null,
   "metadata": {},
   "outputs": [],
   "source": [
    "submit_time_str = '2019-07-21 23:21:24'\n",
    "submit_time = datetime.strptime(submit_time_str, '%Y-%m-%d %H:%M:%S')\n",
    "submit_time"
   ]
  },
  {
   "cell_type": "code",
   "execution_count": null,
   "metadata": {},
   "outputs": [],
   "source": [
    "submit_time < deadline_time"
   ]
  },
  {
   "cell_type": "markdown",
   "metadata": {},
   "source": [
    "### status table"
   ]
  },
  {
   "cell_type": "code",
   "execution_count": null,
   "metadata": {},
   "outputs": [],
   "source": [
    "query = '''\n",
    "select url, name\n",
    "from `geultto.slack_log.3rd_staging` as l left outer join `geultto.user_db.team_member` as r\n",
    "on l.userId = r.id\n",
    "'''"
   ]
  },
  {
   "cell_type": "code",
   "execution_count": null,
   "metadata": {},
   "outputs": [],
   "source": [
    "project_id = 'geultto'\n",
    "slack_log = pd.read_gbq(query, project_id=project_id, dialect='standard')\n",
    "slack_log"
   ]
  }
 ],
 "metadata": {
  "kernelspec": {
   "display_name": "Python 3",
   "language": "python",
   "name": "python3"
  },
  "language_info": {
   "codemirror_mode": {
    "name": "ipython",
    "version": 3
   },
   "file_extension": ".py",
   "mimetype": "text/x-python",
   "name": "python",
   "nbconvert_exporter": "python",
   "pygments_lexer": "ipython3",
   "version": "3.7.0"
  }
 },
 "nbformat": 4,
 "nbformat_minor": 2
}
